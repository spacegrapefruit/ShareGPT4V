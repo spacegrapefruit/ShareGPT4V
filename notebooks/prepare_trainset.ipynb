{
 "cells": [
  {
   "cell_type": "code",
   "execution_count": 21,
   "id": "a6a994b9-2546-44a9-942c-2ab594c84fd3",
   "metadata": {
    "tags": []
   },
   "outputs": [],
   "source": [
    "import json\n",
    "import os\n",
    "import random\n",
    "from concurrent.futures import ThreadPoolExecutor\n",
    "from functools import lru_cache\n",
    "\n",
    "from dotenv import load_dotenv\n",
    "from langchain_core.prompts import ChatPromptTemplate\n",
    "from langchain_openai import AzureChatOpenAI\n",
    "from tenacity import retry, stop_after_attempt, wait_exponential\n",
    "from tqdm import tqdm"
   ]
  },
  {
   "cell_type": "code",
   "execution_count": 22,
   "id": "4b376c24-68e9-4b42-8339-8c3756698fb5",
   "metadata": {
    "tags": []
   },
   "outputs": [],
   "source": [
    "# params\n",
    "DEPLOYMENT_NAME = \"emi-gpt-4o-mini\""
   ]
  },
  {
   "cell_type": "code",
   "execution_count": 23,
   "id": "d08eb779-e969-40cb-993f-5dfc9d46c271",
   "metadata": {
    "tags": []
   },
   "outputs": [
    {
     "data": {
      "text/plain": [
       "True"
      ]
     },
     "execution_count": 23,
     "metadata": {},
     "output_type": "execute_result"
    }
   ],
   "source": [
    "load_dotenv(f\"{os.environ['HOME']}/.env\")"
   ]
  },
  {
   "cell_type": "code",
   "execution_count": 24,
   "id": "27672644-a425-4068-adc2-92a30fd79715",
   "metadata": {
    "tags": []
   },
   "outputs": [],
   "source": [
    "llm = AzureChatOpenAI(\n",
    "    azure_deployment=DEPLOYMENT_NAME,\n",
    "    temperature=0.0,\n",
    "    max_tokens=800,\n",
    "    seed=42,\n",
    ")"
   ]
  },
  {
   "cell_type": "code",
   "execution_count": 25,
   "id": "72754ee6-434e-499d-8aec-3879b6ec45bf",
   "metadata": {
    "tags": []
   },
   "outputs": [],
   "source": [
    "translate_prompt_template = ChatPromptTemplate.from_messages(\n",
    "    [\n",
    "        (\"system\", \"Translate the following from English to Lithuanian\"),\n",
    "        (\"user\", \"{string}\"),\n",
    "    ]\n",
    ")\n",
    "\n",
    "\n",
    "def translate_string(string):\n",
    "    prompt = translate_prompt_template.invoke(\n",
    "        {\"string\": string}\n",
    "    )\n",
    "    try:\n",
    "        response = llm.invoke(prompt)\n",
    "        return response.content\n",
    "    except Exception as e:\n",
    "        print(string)\n",
    "        raise e\n",
    "\n",
    "\n",
    "@retry(stop=stop_after_attempt(5), wait=wait_exponential(multiplier=1, min=3, max=6))\n",
    "@lru_cache(maxsize=None)\n",
    "def translate_to_lithuanian(string):\n",
    "    translated_string = translate_string(string)\n",
    "    return translated_string"
   ]
  },
  {
   "cell_type": "code",
   "execution_count": 46,
   "id": "ef4b3125-f253-4e59-a139-a01950fba249",
   "metadata": {
    "tags": []
   },
   "outputs": [],
   "source": [
    "samples = json.load(open(\"../datasets/train_samples_tuning.json\"))"
   ]
  },
  {
   "cell_type": "code",
   "execution_count": 60,
   "id": "ddf6a635-369f-4880-a751-0b94670b51f5",
   "metadata": {
    "tags": []
   },
   "outputs": [],
   "source": [
    "samples_1p = samples[::100]"
   ]
  },
  {
   "cell_type": "code",
   "execution_count": 53,
   "id": "3f0b3438-b0ab-4d5f-9407-ca432b5f4c30",
   "metadata": {
    "tags": []
   },
   "outputs": [],
   "source": [
    "answers = [\n",
    "    sample[\"conversations\"][1][\"value\"]\n",
    "    for sample in samples_1p\n",
    "]"
   ]
  },
  {
   "cell_type": "code",
   "execution_count": 54,
   "id": "373fc9db-32ca-4112-bf42-5b5e1ae42b73",
   "metadata": {
    "tags": []
   },
   "outputs": [
    {
     "name": "stderr",
     "output_type": "stream",
     "text": [
      "100%|██████████| 225/225 [00:29<00:00,  7.52it/s]\n"
     ]
    }
   ],
   "source": [
    "with ThreadPoolExecutor(max_workers=20) as executor:\n",
    "    results = list(\n",
    "        tqdm(\n",
    "            executor.map(\n",
    "                translate_to_lithuanian,\n",
    "                answers,\n",
    "            ),\n",
    "            total=len(answers),\n",
    "        )\n",
    "    )"
   ]
  },
  {
   "cell_type": "code",
   "execution_count": 55,
   "id": "649ea66a-7e21-4c65-92f8-64b812c6a3fc",
   "metadata": {
    "tags": []
   },
   "outputs": [],
   "source": [
    "for sample, answer in zip(samples_1p, results):\n",
    "    sample[\"conversations\"][1][\"value\"] = answer"
   ]
  },
  {
   "cell_type": "code",
   "execution_count": 61,
   "id": "46e2dd90-2d8f-47cc-88c4-7d167d05d7c1",
   "metadata": {
    "tags": []
   },
   "outputs": [
    {
     "data": {
      "text/plain": [
       "2249"
      ]
     },
     "execution_count": 61,
     "metadata": {},
     "output_type": "execute_result"
    }
   ],
   "source": [
    "len(samples_1p)"
   ]
  },
  {
   "cell_type": "code",
   "execution_count": 56,
   "id": "1e46a8f2-e223-46a6-be91-19cdaf5ea046",
   "metadata": {
    "tags": []
   },
   "outputs": [],
   "source": [
    "json.dump(\n",
    "    samples_1p,\n",
    "    open(\"../datasets/train_samples_tuning_1p.json\", \"w\"),\n",
    "    indent=2,\n",
    ")"
   ]
  }
 ],
 "metadata": {
  "environment": {
   "kernel": "poetry-kernel",
   "name": "workbench-notebooks.m126",
   "type": "gcloud",
   "uri": "us-docker.pkg.dev/deeplearning-platform-release/gcr.io/workbench-notebooks:m126"
  },
  "kernelspec": {
   "display_name": "Poetry (Local)",
   "language": "python",
   "name": "poetry-kernel"
  },
  "language_info": {
   "codemirror_mode": {
    "name": "ipython",
    "version": 3
   },
   "file_extension": ".py",
   "mimetype": "text/x-python",
   "name": "python",
   "nbconvert_exporter": "python",
   "pygments_lexer": "ipython3",
   "version": "3.10.15"
  }
 },
 "nbformat": 4,
 "nbformat_minor": 5
}
