{
 "cells": [
  {
   "cell_type": "code",
   "execution_count": 1,
   "id": "a5658e08-3c3b-4927-a522-a2cf83c06e5a",
   "metadata": {
    "tags": []
   },
   "outputs": [],
   "source": [
    "import re"
   ]
  },
  {
   "cell_type": "code",
   "execution_count": 2,
   "id": "eb68750b-b6e9-4787-8bf4-6869673d299c",
   "metadata": {
    "tags": []
   },
   "outputs": [],
   "source": [
    "cmd = \"\"\"\n",
    "python /home/jupyter/ShareGPT4V/share4v/train/train.py \\\n",
    "    --model_name_or_path \"Lin-Chen/ShareGPT4V-7B\" \\\n",
    "    --version \"vicuna_v1\" \\  # Or other appropriate conversation template version\n",
    "    --data_path \"/home/jupyter/ShareGPT4V/train_samples_tuning.json\" \\\n",
    "    --output_dir \"path/to/your/output_lora_adapters\" \\\n",
    "    --num_train_epochs 3 \\\n",
    "    --per_device_train_batch_size 2 \\\n",
    "    --gradient_accumulation_steps 8 \\\n",
    "    --learning_rate 2e-4 \\ # This LR will be for any non-LoRA params if tuned. LoRA params scale with alpha/r.\n",
    "    --weight_decay 0. \\\n",
    "    --warmup_ratio 0.03 \\\n",
    "    --lr_scheduler_type \"cosine\" \\\n",
    "    --logging_steps 1 \\\n",
    "    # TODO --tf32 False \\ # Set to True if using Ampere GPUs or newer for speed\n",
    "    # TODO --bf16 True \\  # Or --fp16 True, depending on your hardware. BF16 is generally preferred.\n",
    "    --model_max_length 2048 \\\n",
    "    --gradient_checkpointing True \\\n",
    "    --lazy_preprocess True \\\n",
    "    \\\n",
    "    # --- LoRA Specific Arguments ---\n",
    "    --lora_enable True \\\n",
    "    --lora_r 64 \\\n",
    "    --lora_alpha 16 \\ # Or lora_r value\n",
    "    --lora_dropout 0.05 \\\n",
    "    # --lora_bias \"none\" # Default is \"none\"\n",
    "    \\\n",
    "    # --- Multimodal Specific Arguments (if applicable) ---\n",
    "    --vision_tower \"Lin-Chen/ShareGPT4V-7B_Pretrained_vit-large336-l12\" \\\n",
    "    --image_folder \"/home/jupyter/art_images_data/images\" \\\n",
    "    --is_multimodal True \\\n",
    "    --image_aspect_ratio 'pad' \\\n",
    "    --mm_projector_type 'mlp2x_gelu' \\ # Or other projector type\n",
    "    # TODO --tune_mm_mlp_adapter True \\ # Option to tune the projector alongside LoRA\n",
    "    # --tune_vision_tower True # Option to tune the vision tower (can be memory intensive)\n",
    "    # --vision_tower_lr 2e-5 # If tuning vision tower, specify its LR\n",
    "    # --mm_projector_lr 2e-5 # If tuning MLP adapter, specify its LR\n",
    "    \\\n",
    "    # --- QLoRA Specific Arguments (if using quantization) ---\n",
    "    --bits 4 \\\n",
    "    # TODO --double_quant True \\\n",
    "    --quant_type \"nf4\" \\\n",
    "    # TODO extra params\n",
    "    --mm_use_im_start_end False \\\n",
    "    --mm_use_im_patch_token False\n",
    "\"\"\""
   ]
  },
  {
   "cell_type": "code",
   "execution_count": 3,
   "id": "7696d2bc-d36f-4c64-8711-c8d1cc7badc6",
   "metadata": {
    "tags": []
   },
   "outputs": [],
   "source": [
    "lines = cmd.split(\"    \")\n",
    "lines = [\n",
    "    re.sub(r\"\\s*#.*\", \"\", l).strip().strip(\"\\\\\").strip()\n",
    "    for l in lines\n",
    "]\n",
    "lines = [l for l in lines if l]"
   ]
  },
  {
   "cell_type": "code",
   "execution_count": 4,
   "id": "0b95d1a7-1a49-4d26-9896-5ac64147652d",
   "metadata": {
    "tags": []
   },
   "outputs": [
    {
     "name": "stdout",
     "output_type": "stream",
     "text": [
      "!python /home/jupyter/ShareGPT4V/share4v/train/train.py \\\n",
      "    --model_name_or_path \"Lin-Chen/ShareGPT4V-7B\" \\\n",
      "    --version \"vicuna_v1\" \\\n",
      "    --data_path \"/home/jupyter/ShareGPT4V/train_samples_tuning.json\" \\\n",
      "    --output_dir \"path/to/your/output_lora_adapters\" \\\n",
      "    --num_train_epochs 3 \\\n",
      "    --per_device_train_batch_size 2 \\\n",
      "    --gradient_accumulation_steps 8 \\\n",
      "    --learning_rate 2e-4 \\\n",
      "    --weight_decay 0. \\\n",
      "    --warmup_ratio 0.03 \\\n",
      "    --lr_scheduler_type \"cosine\" \\\n",
      "    --logging_steps 1 \\\n",
      "    --model_max_length 2048 \\\n",
      "    --gradient_checkpointing True \\\n",
      "    --lazy_preprocess True \\\n",
      "    --lora_enable True \\\n",
      "    --lora_r 64 \\\n",
      "    --lora_alpha 16 \\\n",
      "    --lora_dropout 0.05 \\\n",
      "    --vision_tower \"Lin-Chen/ShareGPT4V-7B_Pretrained_vit-large336-l12\" \\\n",
      "    --image_folder \"/home/jupyter/art_images_data/images\" \\\n",
      "    --is_multimodal True \\\n",
      "    --image_aspect_ratio 'pad' \\\n",
      "    --mm_projector_type 'mlp2x_gelu' \\\n",
      "    --bits 4 \\\n",
      "    --quant_type \"nf4\"\n"
     ]
    }
   ],
   "source": [
    "print(\"!\" + \" \\\\\\n    \".join(lines))"
   ]
  },
  {
   "cell_type": "code",
   "execution_count": null,
   "id": "2a074194-f8af-44a2-bf43-21a004e47aa5",
   "metadata": {
    "tags": []
   },
   "outputs": [
    {
     "name": "stdout",
     "output_type": "stream",
     "text": [
      "/home/jupyter/.cache/pypoetry/virtualenvs/share4v-KfdsAbnj-py3.10/lib/python3.10/site-packages/huggingface_hub/file_download.py:943: FutureWarning: `resume_download` is deprecated and will be removed in version 1.0.0. Downloads always resume when possible. If you want to force a new download, use `force_download=True`.\n",
      "  warnings.warn(\n",
      "Loading checkpoint shards:   0%|                          | 0/2 [00:00<?, ?it/s]/home/jupyter/.cache/pypoetry/virtualenvs/share4v-KfdsAbnj-py3.10/lib/python3.10/site-packages/transformers/modeling_utils.py:460: FutureWarning: You are using `torch.load` with `weights_only=False` (the current default value), which uses the default pickle module implicitly. It is possible to construct malicious pickle data which will execute arbitrary code during unpickling (See https://github.com/pytorch/pytorch/blob/main/SECURITY.md#untrusted-models for more details). In a future release, the default value for `weights_only` will be flipped to `True`. This limits the functions that could be executed during unpickling. Arbitrary objects will no longer be allowed to be loaded via this mode unless they are explicitly allowlisted by the user via `torch.serialization.add_safe_globals`. We recommend you start setting `weights_only=True` for any use case where you don't have full control of the loaded file. Please open an issue on GitHub for any issues related to this experimental feature.\n",
      "  return torch.load(checkpoint_file, map_location=\"cpu\")\n",
      "Loading checkpoint shards: 100%|██████████████████| 2/2 [00:12<00:00,  6.41s/it]\n",
      "Adding LoRA adapters...\n",
      "Load vision tower from Lin-Chen/ShareGPT4V-7B_Pretrained_vit-large336-l12\n",
      "Total parameters: 3,854,391,296\n",
      "Trainable parameters: 39,976,960\n",
      "Frozen parameters: 3,814,414,336\n",
      "Trainable%: 1.04%\n",
      "Formatting inputs...Skip in lazy mode\n",
      "/home/jupyter/.cache/pypoetry/virtualenvs/share4v-KfdsAbnj-py3.10/lib/python3.10/site-packages/accelerate/accelerator.py:427: FutureWarning: `torch.cuda.amp.GradScaler(args...)` is deprecated. Please use `torch.amp.GradScaler('cuda', args...)` instead.\n",
      "  self.scaler = torch.cuda.amp.GradScaler(**kwargs)\n",
      "/home/jupyter/.cache/pypoetry/virtualenvs/share4v-KfdsAbnj-py3.10/lib/python3.10/site-packages/accelerate/accelerator.py:1301: FutureWarning: `torch.cuda.amp.autocast(args...)` is deprecated. Please use `torch.amp.autocast('cuda', args...)` instead.\n",
      "  new_forward = torch.cuda.amp.autocast(dtype=torch.float16)(model_forward_func)\n",
      "  0%|                                                  | 0/1126 [00:00<?, ?it/s]/home/jupyter/.cache/pypoetry/virtualenvs/share4v-KfdsAbnj-py3.10/lib/python3.10/site-packages/torch/_dynamo/eval_frame.py:600: UserWarning: torch.utils.checkpoint: the use_reentrant parameter should be passed explicitly. In version 2.4 we will raise an exception if use_reentrant is not passed. use_reentrant=False is recommended, but if you need to preserve the current default behavior, you can pass use_reentrant=True. Refer to docs for more details on the differences between the two variants.\n",
      "  return fn(*args, **kwargs)\n",
      "/home/jupyter/.cache/pypoetry/virtualenvs/share4v-KfdsAbnj-py3.10/lib/python3.10/site-packages/torch/utils/checkpoint.py:295: FutureWarning: `torch.cpu.amp.autocast(args...)` is deprecated. Please use `torch.amp.autocast('cpu', args...)` instead.\n",
      "  with torch.enable_grad(), device_autocast_ctx, torch.cpu.amp.autocast(**ctx.cpu_autocast_kwargs):  # type: ignore[attr-defined]\n",
      "{'loss': 3.7837, 'learning_rate': 5.882352941176471e-06, 'epoch': 0.0}          \n",
      "{'loss': 3.8455, 'learning_rate': 1.1764705882352942e-05, 'epoch': 0.0}         \n",
      "{'loss': 3.692, 'learning_rate': 1.7647058823529414e-05, 'epoch': 0.01}         \n",
      "{'loss': 3.6778, 'learning_rate': 2.3529411764705884e-05, 'epoch': 0.01}        \n",
      "{'loss': 3.8235, 'learning_rate': 2.9411764705882354e-05, 'epoch': 0.01}        \n",
      "{'loss': 3.7292, 'learning_rate': 3.529411764705883e-05, 'epoch': 0.01}         \n",
      "{'loss': 3.7433, 'learning_rate': 4.11764705882353e-05, 'epoch': 0.01}          \n",
      "{'loss': 3.486, 'learning_rate': 4.705882352941177e-05, 'epoch': 0.01}          \n",
      "{'loss': 3.5769, 'learning_rate': 5.294117647058824e-05, 'epoch': 0.02}         \n",
      "{'loss': 3.5639, 'learning_rate': 5.882352941176471e-05, 'epoch': 0.02}         \n",
      "{'loss': 3.697, 'learning_rate': 6.470588235294118e-05, 'epoch': 0.02}          \n",
      "{'loss': 3.5548, 'learning_rate': 7.058823529411765e-05, 'epoch': 0.02}         \n",
      "{'loss': 3.3633, 'learning_rate': 7.647058823529411e-05, 'epoch': 0.02}         \n",
      "{'loss': 3.5767, 'learning_rate': 8.23529411764706e-05, 'epoch': 0.02}          \n",
      "{'loss': 3.5143, 'learning_rate': 8.823529411764706e-05, 'epoch': 0.03}         \n",
      "{'loss': 3.2147, 'learning_rate': 9.411764705882353e-05, 'epoch': 0.03}         \n",
      "{'loss': 3.204, 'learning_rate': 0.0001, 'epoch': 0.03}                         \n",
      "{'loss': 3.1603, 'learning_rate': 0.00010588235294117647, 'epoch': 0.03}        \n",
      "{'loss': 2.9356, 'learning_rate': 0.00011176470588235294, 'epoch': 0.03}        \n",
      "{'loss': 3.0381, 'learning_rate': 0.00011764705882352942, 'epoch': 0.04}        \n",
      "{'loss': 2.9477, 'learning_rate': 0.0001235294117647059, 'epoch': 0.04}         \n",
      "{'loss': 2.7572, 'learning_rate': 0.00012941176470588237, 'epoch': 0.04}        \n",
      "{'loss': 2.7846, 'learning_rate': 0.00013529411764705884, 'epoch': 0.04}        \n",
      "{'loss': 2.5682, 'learning_rate': 0.0001411764705882353, 'epoch': 0.04}         \n",
      "{'loss': 2.8327, 'learning_rate': 0.00014705882352941178, 'epoch': 0.04}        \n",
      "{'loss': 2.6237, 'learning_rate': 0.00015294117647058822, 'epoch': 0.05}        \n",
      "{'loss': 2.9248, 'learning_rate': 0.0001588235294117647, 'epoch': 0.05}         \n",
      "{'loss': 2.924, 'learning_rate': 0.0001647058823529412, 'epoch': 0.05}          \n",
      "{'loss': 2.4469, 'learning_rate': 0.00017058823529411766, 'epoch': 0.05}        \n",
      "{'loss': 2.6377, 'learning_rate': 0.00017647058823529413, 'epoch': 0.05}        \n",
      "{'loss': 2.4871, 'learning_rate': 0.0001823529411764706, 'epoch': 0.06}         \n",
      "{'loss': 2.3812, 'learning_rate': 0.00018823529411764707, 'epoch': 0.06}        \n",
      "{'loss': 2.3321, 'learning_rate': 0.00019411764705882354, 'epoch': 0.06}        \n",
      "{'loss': 2.2651, 'learning_rate': 0.0002, 'epoch': 0.06}                        \n",
      "{'loss': 2.5159, 'learning_rate': 0.00019999958616790135, 'epoch': 0.06}        \n",
      "{'loss': 2.2725, 'learning_rate': 0.00019999834467503052, 'epoch': 0.06}        \n",
      "{'loss': 2.0968, 'learning_rate': 0.00019999627553166294, 'epoch': 0.07}        \n",
      "{'loss': 2.3062, 'learning_rate': 0.0001999933787549241, 'epoch': 0.07}         \n",
      "{'loss': 1.8923, 'learning_rate': 0.00019998965436878962, 'epoch': 0.07}        \n",
      "{'loss': 2.2325, 'learning_rate': 0.00019998510240408496, 'epoch': 0.07}        \n",
      "{'loss': 2.2157, 'learning_rate': 0.00019997972289848503, 'epoch': 0.07}        \n",
      "{'loss': 2.0689, 'learning_rate': 0.00019997351589651408, 'epoch': 0.07}        \n",
      "{'loss': 1.877, 'learning_rate': 0.0001999664814495453, 'epoch': 0.08}          \n",
      "{'loss': 1.9865, 'learning_rate': 0.00019995861961580024, 'epoch': 0.08}        \n",
      "{'loss': 2.0974, 'learning_rate': 0.00019994993046034846, 'epoch': 0.08}        \n",
      "{'loss': 1.9703, 'learning_rate': 0.00019994041405510705, 'epoch': 0.08}        \n",
      "  4%|█▌                                     | 46/1126 [08:57<3:40:35, 12.26s/it]"
     ]
    }
   ],
   "source": [
    "!python /home/jupyter/ShareGPT4V/share4v/train/train.py \\\n",
    "    --lora_enable True \\\n",
    "    --lora_r 16 \\\n",
    "    --lora_alpha 16 \\\n",
    "    --mm_projector_lr 2e-5 \\\n",
    "    --model_name_or_path Lin-Chen/ShareGPT4V-7B \\\n",
    "    --version v1 \\\n",
    "    --data_path /home/jupyter/ShareGPT4V/datasets/train_samples_tuning_1p.json \\\n",
    "    --image_folder /home/jupyter/art_images_data \\\n",
    "    --vision_tower Lin-Chen/ShareGPT4V-7B_Pretrained_vit-large336-l12 \\\n",
    "    --mm_projector_type mlp2x_gelu \\\n",
    "    --mm_use_im_start_end False \\\n",
    "    --mm_use_im_patch_token False \\\n",
    "    --image_aspect_ratio pad \\\n",
    "    --group_by_modality_length True \\\n",
    "    --output_dir ./checkpoints/llava-share4v-lora \\\n",
    "    --num_train_epochs 2 \\\n",
    "    --per_device_train_batch_size 4 \\\n",
    "    --per_device_eval_batch_size 4 \\\n",
    "    --gradient_accumulation_steps 1 \\\n",
    "    --evaluation_strategy \"no\" \\\n",
    "    --learning_rate 2e-4 \\\n",
    "    --weight_decay 0. \\\n",
    "    --warmup_ratio 0.03 \\\n",
    "    --lr_scheduler_type \"cosine\" \\\n",
    "    --logging_steps 1 \\\n",
    "    --model_max_length 2048 \\\n",
    "    --gradient_checkpointing True \\\n",
    "    --dataloader_num_workers 4 \\\n",
    "    --lazy_preprocess True \\\n",
    "    --bits 4 \\\n",
    "    --quant_type fp4 \\\n",
    "    --fp16 True"
   ]
  },
  {
   "cell_type": "code",
   "execution_count": null,
   "id": "e657828a-cdaf-4caf-810d-e6109e464751",
   "metadata": {},
   "outputs": [],
   "source": []
  }
 ],
 "metadata": {
  "environment": {
   "kernel": "poetry-kernel",
   "name": "workbench-notebooks.m126",
   "type": "gcloud",
   "uri": "us-docker.pkg.dev/deeplearning-platform-release/gcr.io/workbench-notebooks:m126"
  },
  "kernelspec": {
   "display_name": "Poetry (Local)",
   "language": "python",
   "name": "poetry-kernel"
  },
  "language_info": {
   "codemirror_mode": {
    "name": "ipython",
    "version": 3
   },
   "file_extension": ".py",
   "mimetype": "text/x-python",
   "name": "python",
   "nbconvert_exporter": "python",
   "pygments_lexer": "ipython3",
   "version": "3.10.15"
  }
 },
 "nbformat": 4,
 "nbformat_minor": 5
}
